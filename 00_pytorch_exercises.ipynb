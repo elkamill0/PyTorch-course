{
  "nbformat": 4,
  "nbformat_minor": 0,
  "metadata": {
    "colab": {
      "provenance": [],
      "gpuType": "T4",
      "authorship_tag": "ABX9TyNsZ4eF7JaIp0TO22VBhR75",
      "include_colab_link": true
    },
    "kernelspec": {
      "name": "python3",
      "display_name": "Python 3"
    },
    "language_info": {
      "name": "python"
    },
    "accelerator": "GPU"
  },
  "cells": [
    {
      "cell_type": "markdown",
      "metadata": {
        "id": "view-in-github",
        "colab_type": "text"
      },
      "source": [
        "<a href=\"https://colab.research.google.com/github/elkamill0/PyTorch-course/blob/main/00_pytorch_exercises.ipynb\" target=\"_parent\"><img src=\"https://colab.research.google.com/assets/colab-badge.svg\" alt=\"Open In Colab\"/></a>"
      ]
    },
    {
      "cell_type": "code",
      "execution_count": 1,
      "metadata": {
        "id": "0rjXs7kJvNHh"
      },
      "outputs": [],
      "source": [
        "import torch"
      ]
    },
    {
      "cell_type": "markdown",
      "source": [
        "1. Documentation reading - A big part of deep learning (and learning to code in general) is getting familiar with the documentation of a certain framework you're using. We'll be using the PyTorch documentation a lot throughout the rest of this course. So I'd recommend spending 10-minutes reading the following (it's okay if you don't get some things for now, the focus is not yet full understanding, it's awareness). See the documentation on torch.Tensor and for torch.cuda."
      ],
      "metadata": {
        "id": "0JpmZArgwCk4"
      }
    },
    {
      "cell_type": "markdown",
      "source": [
        "2. Create a random tensor with shape `(7, 7)`."
      ],
      "metadata": {
        "id": "SzD1It2qpduk"
      }
    },
    {
      "cell_type": "code",
      "source": [
        "tensor = torch.rand(7,7)\n",
        "tensor"
      ],
      "metadata": {
        "id": "OGsFS_t_wNI5",
        "outputId": "ca30f3d8-36c1-4436-f11a-8d568a542df7",
        "colab": {
          "base_uri": "https://localhost:8080/"
        }
      },
      "execution_count": 2,
      "outputs": [
        {
          "output_type": "execute_result",
          "data": {
            "text/plain": [
              "tensor([[0.8507, 0.0430, 0.8059, 0.5465, 0.8089, 0.4643, 0.4127],\n",
              "        [0.5160, 0.3075, 0.0969, 0.2692, 0.1056, 0.2121, 0.6525],\n",
              "        [0.1509, 0.3101, 0.3156, 0.1192, 0.8965, 0.4327, 0.3774],\n",
              "        [0.5037, 0.5541, 0.7464, 0.6687, 0.7179, 0.3587, 0.4134],\n",
              "        [0.8621, 0.9551, 0.3713, 0.7623, 0.6264, 0.8603, 0.2466],\n",
              "        [0.2435, 0.7706, 0.3889, 0.7648, 0.5114, 0.1940, 0.9316],\n",
              "        [0.8979, 0.3854, 0.5553, 0.6277, 0.4839, 0.3766, 0.4282]])"
            ]
          },
          "metadata": {},
          "execution_count": 2
        }
      ]
    },
    {
      "cell_type": "markdown",
      "source": [
        "3. Perform a matrix multiplication on the tensor from 2 with another random tensor with shape `(1, 7)` (hint: you may have to transpose the second tensor)."
      ],
      "metadata": {
        "id": "1WmFNC5Hpa3q"
      }
    },
    {
      "cell_type": "code",
      "source": [
        "matrix1 = torch.rand(1,9)\n",
        "matrix2 = torch.rand(1,9)\n",
        "torch.mm(matrix1, matrix2.T)"
      ],
      "metadata": {
        "id": "n2CTmEy4pcFO",
        "outputId": "b76e1606-237a-4d98-f70e-917ec697b235",
        "colab": {
          "base_uri": "https://localhost:8080/"
        }
      },
      "execution_count": 3,
      "outputs": [
        {
          "output_type": "execute_result",
          "data": {
            "text/plain": [
              "tensor([[1.1928]])"
            ]
          },
          "metadata": {},
          "execution_count": 3
        }
      ]
    },
    {
      "cell_type": "markdown",
      "source": [
        "4. Set the random seed to `0` and do exercises 2 & 3 over again."
      ],
      "metadata": {
        "id": "SynKs1RdqXzL"
      }
    },
    {
      "cell_type": "code",
      "source": [
        "torch.manual_seed(0)\n",
        "matrix1 = torch.rand(1,9)\n",
        "torch.manual_seed(0)\n",
        "matrix2 = torch.rand(1,9)\n",
        "print(matrix1 == matrix2)\n",
        "torch.mm(matrix1, matrix2.T)"
      ],
      "metadata": {
        "id": "w4rkFQ1zq0g7",
        "outputId": "dc699e47-64d4-46aa-d5c8-f75ba38e2b5e",
        "colab": {
          "base_uri": "https://localhost:8080/"
        }
      },
      "execution_count": 4,
      "outputs": [
        {
          "output_type": "stream",
          "name": "stdout",
          "text": [
            "tensor([[True, True, True, True, True, True, True, True, True]])\n"
          ]
        },
        {
          "output_type": "execute_result",
          "data": {
            "text/plain": [
              "tensor([[2.6097]])"
            ]
          },
          "metadata": {},
          "execution_count": 4
        }
      ]
    },
    {
      "cell_type": "code",
      "source": [
        "torch.manual_seed(0)\n",
        "tensor = torch.rand(7,7)\n",
        "tensor"
      ],
      "metadata": {
        "id": "zx0kjVKWrHVu",
        "outputId": "4336d091-2a42-4fad-9d05-5cc05f6f5461",
        "colab": {
          "base_uri": "https://localhost:8080/"
        }
      },
      "execution_count": 5,
      "outputs": [
        {
          "output_type": "execute_result",
          "data": {
            "text/plain": [
              "tensor([[0.4963, 0.7682, 0.0885, 0.1320, 0.3074, 0.6341, 0.4901],\n",
              "        [0.8964, 0.4556, 0.6323, 0.3489, 0.4017, 0.0223, 0.1689],\n",
              "        [0.2939, 0.5185, 0.6977, 0.8000, 0.1610, 0.2823, 0.6816],\n",
              "        [0.9152, 0.3971, 0.8742, 0.4194, 0.5529, 0.9527, 0.0362],\n",
              "        [0.1852, 0.3734, 0.3051, 0.9320, 0.1759, 0.2698, 0.1507],\n",
              "        [0.0317, 0.2081, 0.9298, 0.7231, 0.7423, 0.5263, 0.2437],\n",
              "        [0.5846, 0.0332, 0.1387, 0.2422, 0.8155, 0.7932, 0.2783]])"
            ]
          },
          "metadata": {},
          "execution_count": 5
        }
      ]
    },
    {
      "cell_type": "markdown",
      "source": [
        "5. Speaking of random seeds, we saw how to set it with `torch.manual_seed()` but is there a GPU equivalent? (hint: you'll need to look into the documentation for `torch.cuda` for this one). If there is, set the GPU random seed to `1234`."
      ],
      "metadata": {
        "id": "y6dsKvZHryC8"
      }
    },
    {
      "cell_type": "code",
      "source": [
        "tensor = torch.rand(2,3)\n",
        "tensor = tensor.to(\"cuda\")\n",
        "torch.manual_seed(1234)\n",
        "tensor"
      ],
      "metadata": {
        "id": "NVl9DY4SsCiN",
        "outputId": "1bc33560-2fdf-4ef1-c023-e6a6a1d56c13",
        "colab": {
          "base_uri": "https://localhost:8080/"
        }
      },
      "execution_count": 6,
      "outputs": [
        {
          "output_type": "execute_result",
          "data": {
            "text/plain": [
              "tensor([[0.4820, 0.8198, 0.9971],\n",
              "        [0.6984, 0.5675, 0.8352]], device='cuda:0')"
            ]
          },
          "metadata": {},
          "execution_count": 6
        }
      ]
    },
    {
      "cell_type": "code",
      "source": [
        "tensor = torch.tensor(torch.rand(2,3), device=\"cuda\")\n",
        "torch.manual_seed(1234)\n",
        "tensor"
      ],
      "metadata": {
        "id": "3TujBWxYwTnZ",
        "outputId": "57859daa-8763-4522-dd69-75b7b995b939",
        "colab": {
          "base_uri": "https://localhost:8080/"
        }
      },
      "execution_count": 7,
      "outputs": [
        {
          "output_type": "stream",
          "name": "stderr",
          "text": [
            "<ipython-input-7-6dee04cf8e8a>:1: UserWarning: To copy construct from a tensor, it is recommended to use sourceTensor.clone().detach() or sourceTensor.clone().detach().requires_grad_(True), rather than torch.tensor(sourceTensor).\n",
            "  tensor = torch.tensor(torch.rand(2,3), device=\"cuda\")\n"
          ]
        },
        {
          "output_type": "execute_result",
          "data": {
            "text/plain": [
              "tensor([[0.0290, 0.4019, 0.2598],\n",
              "        [0.3666, 0.0583, 0.7006]], device='cuda:0')"
            ]
          },
          "metadata": {},
          "execution_count": 7
        }
      ]
    },
    {
      "cell_type": "markdown",
      "source": [
        "6. Create two random tensors of shape `(2, 3)` and send them both to the GPU (you'll need access to a GPU for this). Set `torch.manual_seed(1234)` when creating the tensors (this doesn't have to be the GPU random seed)."
      ],
      "metadata": {
        "id": "0KPS9crNy5Lt"
      }
    },
    {
      "cell_type": "code",
      "source": [
        "device = \"cuda\"\n",
        "torch.manual_seed(1234)\n",
        "tensor1 = torch.rand(2, 3)\n",
        "tensor1 = tensor1.to(device)\n",
        "tensor2 = torch.rand(2, 3)\n",
        "torch.manual_seed(1234)\n",
        "tensor2 = tensor2.to(device)\n",
        "tensor1, tensor2"
      ],
      "metadata": {
        "id": "QyPQxszy1ocS",
        "outputId": "2be267ef-5e03-4fda-ca14-19421c7c08b5",
        "colab": {
          "base_uri": "https://localhost:8080/"
        }
      },
      "execution_count": 8,
      "outputs": [
        {
          "output_type": "execute_result",
          "data": {
            "text/plain": [
              "(tensor([[0.0290, 0.4019, 0.2598],\n",
              "         [0.3666, 0.0583, 0.7006]], device='cuda:0'),\n",
              " tensor([[0.0518, 0.4681, 0.6738],\n",
              "         [0.3315, 0.7837, 0.5631]], device='cuda:0'))"
            ]
          },
          "metadata": {},
          "execution_count": 8
        }
      ]
    },
    {
      "cell_type": "markdown",
      "source": [
        "7. Perform a matrix multiplication on the tensors you created in 6 (again, you may have to adjust the shapes of one of the tensors)."
      ],
      "metadata": {
        "id": "s9lYVplo2coO"
      }
    },
    {
      "cell_type": "code",
      "source": [
        "tensor3 = torch.mm(tensor1.T, tensor2)\n",
        "tensor3"
      ],
      "metadata": {
        "id": "PIhPSXE24Yh2",
        "outputId": "bf06f124-98a4-4f89-d141-deb6aab07c04",
        "colab": {
          "base_uri": "https://localhost:8080/"
        }
      },
      "execution_count": 9,
      "outputs": [
        {
          "output_type": "execute_result",
          "data": {
            "text/plain": [
              "tensor([[0.1230, 0.3009, 0.2260],\n",
              "        [0.0401, 0.2338, 0.3036],\n",
              "        [0.2457, 0.6707, 0.5696]], device='cuda:0')"
            ]
          },
          "metadata": {},
          "execution_count": 9
        }
      ]
    },
    {
      "cell_type": "markdown",
      "source": [
        "8. Find the maximum and minimum values of the output of 7."
      ],
      "metadata": {
        "id": "XTtjU2H84tYn"
      }
    },
    {
      "cell_type": "code",
      "source": [
        "torch.min(tensor3)"
      ],
      "metadata": {
        "id": "-PJeuzJS4-wm",
        "outputId": "ef0a8660-4f8e-4f41-db9c-244440ed0b75",
        "colab": {
          "base_uri": "https://localhost:8080/"
        }
      },
      "execution_count": 10,
      "outputs": [
        {
          "output_type": "execute_result",
          "data": {
            "text/plain": [
              "tensor(0.0401, device='cuda:0')"
            ]
          },
          "metadata": {},
          "execution_count": 10
        }
      ]
    },
    {
      "cell_type": "markdown",
      "source": [
        "9. Find the maximum and minimum index values of the output of 7."
      ],
      "metadata": {
        "id": "EJCbY6_25eZG"
      }
    },
    {
      "cell_type": "code",
      "source": [
        "torch.max(tensor3)"
      ],
      "metadata": {
        "id": "CfHToZ6Q5Y-G",
        "outputId": "16f047d8-c67f-47c8-8584-88eb7ff759da",
        "colab": {
          "base_uri": "https://localhost:8080/"
        }
      },
      "execution_count": 11,
      "outputs": [
        {
          "output_type": "execute_result",
          "data": {
            "text/plain": [
              "tensor(0.6707, device='cuda:0')"
            ]
          },
          "metadata": {},
          "execution_count": 11
        }
      ]
    },
    {
      "cell_type": "markdown",
      "source": [
        "10. Make a random tensor with shape `(1, 1, 1, 10)` and then create a new tensor with all the `1` dimensions removed to be left with a tensor of shape `(10)`. Set the seed to `7` when you create it and print out the first tensor and it's shape as well as the second tensor and it's shape."
      ],
      "metadata": {
        "id": "gDYTl-0p5dqP"
      }
    },
    {
      "cell_type": "code",
      "source": [
        "torch.manual_seed(7)\n",
        "tensor = torch.rand(1,1,1,10)\n",
        "tensor.shape, tensor"
      ],
      "metadata": {
        "id": "GB9i_DEiDryt",
        "outputId": "5c477146-0dde-401d-ec33-3a5dd5c0f59b",
        "colab": {
          "base_uri": "https://localhost:8080/"
        }
      },
      "execution_count": 27,
      "outputs": [
        {
          "output_type": "execute_result",
          "data": {
            "text/plain": [
              "(torch.Size([1, 1, 1, 10]),\n",
              " tensor([[[[0.5349, 0.1988, 0.6592, 0.6569, 0.2328, 0.4251, 0.2071, 0.6297,\n",
              "            0.3653, 0.8513]]]]))"
            ]
          },
          "metadata": {},
          "execution_count": 27
        }
      ]
    },
    {
      "cell_type": "code",
      "source": [
        "tensor = tensor.squeeze()\n",
        "tensor.shape, tensor"
      ],
      "metadata": {
        "id": "ebVv6o0NEJaX",
        "outputId": "9565cbb7-efe3-4726-a086-5dc162e788a0",
        "colab": {
          "base_uri": "https://localhost:8080/"
        }
      },
      "execution_count": 28,
      "outputs": [
        {
          "output_type": "execute_result",
          "data": {
            "text/plain": [
              "(torch.Size([10]),\n",
              " tensor([0.5349, 0.1988, 0.6592, 0.6569, 0.2328, 0.4251, 0.2071, 0.6297, 0.3653,\n",
              "         0.8513]))"
            ]
          },
          "metadata": {},
          "execution_count": 28
        }
      ]
    },
    {
      "cell_type": "code",
      "source": [],
      "metadata": {
        "id": "8JpIpoJ-EoLF"
      },
      "execution_count": null,
      "outputs": []
    }
  ]
}