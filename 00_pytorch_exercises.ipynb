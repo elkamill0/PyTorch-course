{
  "nbformat": 4,
  "nbformat_minor": 0,
  "metadata": {
    "colab": {
      "provenance": [],
      "gpuType": "T4",
      "authorship_tag": "ABX9TyNTl6r8eNCE+KZo9Z9gr/sj",
      "include_colab_link": true
    },
    "kernelspec": {
      "name": "python3",
      "display_name": "Python 3"
    },
    "language_info": {
      "name": "python"
    },
    "accelerator": "GPU"
  },
  "cells": [
    {
      "cell_type": "markdown",
      "metadata": {
        "id": "view-in-github",
        "colab_type": "text"
      },
      "source": [
        "<a href=\"https://colab.research.google.com/github/elkamill0/PyTorch-course/blob/main/00_pytorch_exercises.ipynb\" target=\"_parent\"><img src=\"https://colab.research.google.com/assets/colab-badge.svg\" alt=\"Open In Colab\"/></a>"
      ]
    },
    {
      "cell_type": "code",
      "execution_count": 1,
      "metadata": {
        "id": "0rjXs7kJvNHh"
      },
      "outputs": [],
      "source": [
        "import torch"
      ]
    },
    {
      "cell_type": "markdown",
      "source": [
        "1. Documentation reading - A big part of deep learning (and learning to code in general) is getting familiar with the documentation of a certain framework you're using. We'll be using the PyTorch documentation a lot throughout the rest of this course. So I'd recommend spending 10-minutes reading the following (it's okay if you don't get some things for now, the focus is not yet full understanding, it's awareness). See the documentation on torch.Tensor and for torch.cuda."
      ],
      "metadata": {
        "id": "0JpmZArgwCk4"
      }
    },
    {
      "cell_type": "markdown",
      "source": [
        "2. Create a random tensor with shape `(7, 7)`."
      ],
      "metadata": {
        "id": "SzD1It2qpduk"
      }
    },
    {
      "cell_type": "code",
      "source": [
        "tensor = torch.rand(7,7)\n",
        "tensor"
      ],
      "metadata": {
        "id": "OGsFS_t_wNI5",
        "outputId": "651d0b76-18b1-4778-ce35-4687532a4a78",
        "colab": {
          "base_uri": "https://localhost:8080/"
        }
      },
      "execution_count": 2,
      "outputs": [
        {
          "output_type": "execute_result",
          "data": {
            "text/plain": [
              "tensor([[0.6128, 0.1939, 0.5785, 0.1418, 0.2657, 0.8161, 0.9979],\n",
              "        [0.2291, 0.5320, 0.7127, 0.9209, 0.4355, 0.1529, 0.9411],\n",
              "        [0.2978, 0.9499, 0.4193, 0.6579, 0.5477, 0.5115, 0.3448],\n",
              "        [0.1480, 0.1885, 0.4905, 0.5724, 0.2660, 0.0104, 0.2479],\n",
              "        [0.1890, 0.8556, 0.8079, 0.7477, 0.4557, 0.5646, 0.1887],\n",
              "        [0.5404, 0.3682, 0.5907, 0.1671, 0.7234, 0.1256, 0.7351],\n",
              "        [0.5394, 0.9440, 0.3057, 0.0041, 0.0880, 0.9497, 0.3506]])"
            ]
          },
          "metadata": {},
          "execution_count": 2
        }
      ]
    },
    {
      "cell_type": "markdown",
      "source": [
        "3. Perform a matrix multiplication on the tensor from 2 with another random tensor with shape `(1, 7)` (hint: you may have to transpose the second tensor)."
      ],
      "metadata": {
        "id": "1WmFNC5Hpa3q"
      }
    },
    {
      "cell_type": "code",
      "source": [
        "matrix1 = torch.rand(1,9)\n",
        "matrix2 = torch.rand(1,9)\n",
        "torch.mm(matrix1, matrix2.T)"
      ],
      "metadata": {
        "id": "n2CTmEy4pcFO",
        "outputId": "715a739f-204f-47c9-84f9-65f903471f66",
        "colab": {
          "base_uri": "https://localhost:8080/"
        }
      },
      "execution_count": 3,
      "outputs": [
        {
          "output_type": "execute_result",
          "data": {
            "text/plain": [
              "tensor([[1.0230]])"
            ]
          },
          "metadata": {},
          "execution_count": 3
        }
      ]
    },
    {
      "cell_type": "markdown",
      "source": [
        "4. Set the random seed to `0` and do exercises 2 & 3 over again."
      ],
      "metadata": {
        "id": "SynKs1RdqXzL"
      }
    },
    {
      "cell_type": "code",
      "source": [
        "torch.manual_seed(0)\n",
        "matrix1 = torch.rand(1,9)\n",
        "torch.manual_seed(0)\n",
        "matrix2 = torch.rand(1,9)\n",
        "print(matrix1 == matrix2)\n",
        "torch.mm(matrix1, matrix2.T)"
      ],
      "metadata": {
        "id": "w4rkFQ1zq0g7",
        "outputId": "b9fc489f-64b9-4bd9-d76f-9a9a07736126",
        "colab": {
          "base_uri": "https://localhost:8080/"
        }
      },
      "execution_count": 4,
      "outputs": [
        {
          "output_type": "stream",
          "name": "stdout",
          "text": [
            "tensor([[True, True, True, True, True, True, True, True, True]])\n"
          ]
        },
        {
          "output_type": "execute_result",
          "data": {
            "text/plain": [
              "tensor([[2.6097]])"
            ]
          },
          "metadata": {},
          "execution_count": 4
        }
      ]
    },
    {
      "cell_type": "code",
      "source": [
        "torch.manual_seed(0)\n",
        "tensor = torch.rand(7,7)\n",
        "tensor"
      ],
      "metadata": {
        "id": "zx0kjVKWrHVu",
        "outputId": "b4d0f22b-13a1-42df-90f8-b23c8ecfd91c",
        "colab": {
          "base_uri": "https://localhost:8080/"
        }
      },
      "execution_count": 5,
      "outputs": [
        {
          "output_type": "execute_result",
          "data": {
            "text/plain": [
              "tensor([[0.4963, 0.7682, 0.0885, 0.1320, 0.3074, 0.6341, 0.4901],\n",
              "        [0.8964, 0.4556, 0.6323, 0.3489, 0.4017, 0.0223, 0.1689],\n",
              "        [0.2939, 0.5185, 0.6977, 0.8000, 0.1610, 0.2823, 0.6816],\n",
              "        [0.9152, 0.3971, 0.8742, 0.4194, 0.5529, 0.9527, 0.0362],\n",
              "        [0.1852, 0.3734, 0.3051, 0.9320, 0.1759, 0.2698, 0.1507],\n",
              "        [0.0317, 0.2081, 0.9298, 0.7231, 0.7423, 0.5263, 0.2437],\n",
              "        [0.5846, 0.0332, 0.1387, 0.2422, 0.8155, 0.7932, 0.2783]])"
            ]
          },
          "metadata": {},
          "execution_count": 5
        }
      ]
    },
    {
      "cell_type": "markdown",
      "source": [
        "5. Speaking of random seeds, we saw how to set it with `torch.manual_seed()` but is there a GPU equivalent? (hint: you'll need to look into the documentation for `torch.cuda` for this one). If there is, set the GPU random seed to `1234`."
      ],
      "metadata": {
        "id": "y6dsKvZHryC8"
      }
    },
    {
      "cell_type": "code",
      "source": [
        "tensor = torch.rand(2,3)\n",
        "tensor = tensor.to(\"cuda\")\n",
        "torch.manual_seed(1234)\n",
        "tensor"
      ],
      "metadata": {
        "id": "NVl9DY4SsCiN",
        "outputId": "3d5718e9-ff5c-4274-e997-0a072cdbee98",
        "colab": {
          "base_uri": "https://localhost:8080/"
        }
      },
      "execution_count": 47,
      "outputs": [
        {
          "output_type": "execute_result",
          "data": {
            "text/plain": [
              "tensor([[0.0290, 0.4019, 0.2598],\n",
              "        [0.3666, 0.0583, 0.7006]], device='cuda:0')"
            ]
          },
          "metadata": {},
          "execution_count": 47
        }
      ]
    },
    {
      "cell_type": "code",
      "source": [
        "tensor = torch.tensor(torch.rand(2,3), device=\"cuda\")\n",
        "torch.manual_seed(1234)\n",
        "tensor"
      ],
      "metadata": {
        "id": "3TujBWxYwTnZ",
        "outputId": "7aeae78a-e78e-499f-9192-a247c5948d44",
        "colab": {
          "base_uri": "https://localhost:8080/"
        }
      },
      "execution_count": 48,
      "outputs": [
        {
          "output_type": "stream",
          "name": "stderr",
          "text": [
            "<ipython-input-48-6dee04cf8e8a>:1: UserWarning: To copy construct from a tensor, it is recommended to use sourceTensor.clone().detach() or sourceTensor.clone().detach().requires_grad_(True), rather than torch.tensor(sourceTensor).\n",
            "  tensor = torch.tensor(torch.rand(2,3), device=\"cuda\")\n"
          ]
        },
        {
          "output_type": "execute_result",
          "data": {
            "text/plain": [
              "tensor([[0.0290, 0.4019, 0.2598],\n",
              "        [0.3666, 0.0583, 0.7006]], device='cuda:0')"
            ]
          },
          "metadata": {},
          "execution_count": 48
        }
      ]
    },
    {
      "cell_type": "markdown",
      "source": [
        "6. Create two random tensors of shape `(2, 3)` and send them both to the GPU (you'll need access to a GPU for this). Set `torch.manual_seed(1234)` when creating the tensors (this doesn't have to be the GPU random seed)."
      ],
      "metadata": {
        "id": "0KPS9crNy5Lt"
      }
    },
    {
      "cell_type": "code",
      "source": [
        "device = \"cuda\"\n",
        "torch.manual_seed(1234)\n",
        "tensor1 = torch.rand(2, 3)\n",
        "tensor1 = tensor1.to(device)\n",
        "tensor2 = torch.rand(2, 3)\n",
        "torch.manual_seed(1234)\n",
        "tensor2 = tensor2.to(device)\n",
        "tensor1, tensor2"
      ],
      "metadata": {
        "id": "QyPQxszy1ocS",
        "outputId": "eef312d2-d975-40f0-82f4-14b7c00467be",
        "colab": {
          "base_uri": "https://localhost:8080/"
        }
      },
      "execution_count": 68,
      "outputs": [
        {
          "output_type": "execute_result",
          "data": {
            "text/plain": [
              "(tensor([[0.0290, 0.4019, 0.2598],\n",
              "         [0.3666, 0.0583, 0.7006]], device='cuda:0'),\n",
              " tensor([[0.0290, 0.4019, 0.2598],\n",
              "         [0.3666, 0.0583, 0.7006]], device='cuda:0'))"
            ]
          },
          "metadata": {},
          "execution_count": 68
        }
      ]
    },
    {
      "cell_type": "markdown",
      "source": [
        "7. Perform a matrix multiplication on the tensors you created in 6 (again, you may have to adjust the shapes of one of the tensors)."
      ],
      "metadata": {
        "id": "s9lYVplo2coO"
      }
    },
    {
      "cell_type": "code",
      "source": [
        "tensor3 = torch.mm(tensor1.T, tensor2)\n",
        "tensor3"
      ],
      "metadata": {
        "id": "PIhPSXE24Yh2",
        "outputId": "f3104153-a962-48f4-fe4f-9e571a0b6faa",
        "colab": {
          "base_uri": "https://localhost:8080/"
        }
      },
      "execution_count": 73,
      "outputs": [
        {
          "output_type": "execute_result",
          "data": {
            "text/plain": [
              "tensor([[0.1353, 0.0330, 0.2644],\n",
              "        [0.0330, 0.1649, 0.1453],\n",
              "        [0.2644, 0.1453, 0.5584]], device='cuda:0')"
            ]
          },
          "metadata": {},
          "execution_count": 73
        }
      ]
    },
    {
      "cell_type": "markdown",
      "source": [
        "8. Find the maximum and minimum values of the output of 7."
      ],
      "metadata": {
        "id": "XTtjU2H84tYn"
      }
    },
    {
      "cell_type": "code",
      "source": [
        "torch.min(tensor3)"
      ],
      "metadata": {
        "id": "-PJeuzJS4-wm",
        "outputId": "7e3e2c79-aa5a-46fa-d7cf-7bd19b6c82c3",
        "colab": {
          "base_uri": "https://localhost:8080/"
        }
      },
      "execution_count": 75,
      "outputs": [
        {
          "output_type": "execute_result",
          "data": {
            "text/plain": [
              "tensor(0.0330, device='cuda:0')"
            ]
          },
          "metadata": {},
          "execution_count": 75
        }
      ]
    },
    {
      "cell_type": "markdown",
      "source": [
        "9. Find the maximum and minimum index values of the output of 7."
      ],
      "metadata": {
        "id": "EJCbY6_25eZG"
      }
    },
    {
      "cell_type": "code",
      "source": [
        "torch.max(tensor3)"
      ],
      "metadata": {
        "id": "CfHToZ6Q5Y-G",
        "outputId": "6a1a7e05-dff6-44b7-b66e-2dc541cb11ca",
        "colab": {
          "base_uri": "https://localhost:8080/"
        }
      },
      "execution_count": 76,
      "outputs": [
        {
          "output_type": "execute_result",
          "data": {
            "text/plain": [
              "tensor(0.5584, device='cuda:0')"
            ]
          },
          "metadata": {},
          "execution_count": 76
        }
      ]
    },
    {
      "cell_type": "code",
      "source": [],
      "metadata": {
        "id": "gDYTl-0p5dqP"
      },
      "execution_count": null,
      "outputs": []
    }
  ]
}